{
 "cells": [
  {
   "cell_type": "code",
   "execution_count": 1,
   "metadata": {
    "id": "doNFRjPqiBhM",
    "colab_type": "code",
    "colab": {
     "base_uri": "https://localhost:8080/",
     "height": 119.0
    },
    "outputId": "82b37549-90d3-4d0e-d546-df291c598853"
   },
   "outputs": [
    {
     "name": "stdout",
     "output_type": "stream",
     "text": [
      "Archive:  uncased_L-12_H-768_A-12.zip\n",
      "  inflating: uncased_L-12_H-768_A-12/bert_model.ckpt.meta  \n",
      "  inflating: uncased_L-12_H-768_A-12/bert_model.ckpt.data-00000-of-00001  \n",
      "  inflating: uncased_L-12_H-768_A-12/vocab.txt  \n",
      "  inflating: uncased_L-12_H-768_A-12/bert_model.ckpt.index  \n",
      "  inflating: uncased_L-12_H-768_A-12/bert_config.json  \n"
     ]
    }
   ],
   "source": [
    "# @title Preparation\n",
    "!pip install -q keras-bert\n",
    "!wget -q https://storage.googleapis.com/bert_models/2018_10_18/uncased_L-12_H-768_A-12.zip\n",
    "!unzip -o uncased_L-12_H-768_A-12.zip"
   ]
  },
  {
   "cell_type": "code",
   "execution_count": 2,
   "metadata": {
    "id": "KUQ8UtquieFj",
    "colab_type": "code",
    "colab": {}
   },
   "outputs": [],
   "source": [
    "# @title Environment\n",
    "import os\n",
    "\n",
    "pretrained_path = 'uncased_L-12_H-768_A-12'\n",
    "config_path = os.path.join(pretrained_path, 'bert_config.json')\n",
    "checkpoint_path = os.path.join(pretrained_path, 'bert_model.ckpt')\n",
    "vocab_path = os.path.join(pretrained_path, 'vocab.txt')\n",
    "\n",
    "# TF_KERAS must be added to environment variables in order to use TPU\n",
    "os.environ['TF_KERAS'] = '1'"
   ]
  },
  {
   "cell_type": "code",
   "execution_count": 3,
   "metadata": {
    "id": "sVTPNxOyj4HJ",
    "colab_type": "code",
    "colab": {
     "base_uri": "https://localhost:8080/",
     "height": 139.0
    },
    "outputId": "c2286b34-901a-47f4-96a7-8838cbe70c4e"
   },
   "outputs": [
    {
     "name": "stdout",
     "output_type": "stream",
     "text": [
      "WARNING:tensorflow:From /usr/local/lib/python3.6/dist-packages/tensorflow/python/ops/resource_variable_ops.py:435: colocate_with (from tensorflow.python.framework.ops) is deprecated and will be removed in a future version.\n",
      "Instructions for updating:\n",
      "Colocations handled automatically by placer.\n",
      "WARNING:tensorflow:From /usr/local/lib/python3.6/dist-packages/tensorflow/python/keras/layers/core.py:143: calling dropout (from tensorflow.python.ops.nn_ops) with keep_prob is deprecated and will be removed in a future version.\n",
      "Instructions for updating:\n",
      "Please use `rate` instead of `keep_prob`. Rate should be set to `rate = 1 - keep_prob`.\n"
     ]
    }
   ],
   "source": [
    "# @title Load Basic Model\n",
    "import codecs\n",
    "from keras_bert import load_trained_model_from_checkpoint\n",
    "\n",
    "token_dict = {}\n",
    "with codecs.open(vocab_path, 'r', 'utf8') as reader:\n",
    "    for line in reader:\n",
    "        token = line.strip()\n",
    "        token_dict[token] = len(token_dict)\n",
    "\n",
    "model = load_trained_model_from_checkpoint(config_path, checkpoint_path)"
   ]
  },
  {
   "cell_type": "code",
   "execution_count": 4,
   "metadata": {
    "id": "_d16-VGMnrj3",
    "colab_type": "code",
    "colab": {}
   },
   "outputs": [],
   "source": [
    "# @title Initialize Variables\n",
    "import tensorflow as tf\n",
    "import tensorflow.keras.backend as K\n",
    "\n",
    "sess = K.get_session()\n",
    "uninitialized_variables = set([i.decode('ascii') for i in sess.run(tf.report_uninitialized_variables())])\n",
    "init_op = tf.variables_initializer(\n",
    "    [v for v in tf.global_variables() if v.name.split(':')[0] in uninitialized_variables]\n",
    ")\n",
    "sess.run(init_op)"
   ]
  },
  {
   "cell_type": "code",
   "execution_count": 5,
   "metadata": {
    "id": "gTt2Z2rKkZ4-",
    "colab_type": "code",
    "colab": {
     "base_uri": "https://localhost:8080/",
     "height": 479.0
    },
    "outputId": "ea25eeb2-04c7-4203-dd3c-b313ebcf3391"
   },
   "outputs": [
    {
     "name": "stdout",
     "output_type": "stream",
     "text": [
      "\n",
      "WARNING: The TensorFlow contrib module will not be included in TensorFlow 2.0.\n",
      "For more information, please see:\n",
      "  * https://github.com/tensorflow/community/blob/master/rfcs/20180907-contrib-sunset.md\n",
      "  * https://github.com/tensorflow/addons\n",
      "If you depend on functionality not listed there, please file an issue.\n",
      "\n",
      "INFO:tensorflow:Querying Tensorflow master (grpc://10.60.20.66:8470) for TPU system metadata.\n",
      "INFO:tensorflow:Found TPU system:\n",
      "INFO:tensorflow:*** Num TPU Cores: 8\n",
      "INFO:tensorflow:*** Num TPU Workers: 1\n",
      "INFO:tensorflow:*** Num TPU Cores Per Worker: 8\n",
      "INFO:tensorflow:*** Available Device: _DeviceAttributes(/job:worker/replica:0/task:0/device:CPU:0, CPU, -1, 6360752350457586044)\n",
      "INFO:tensorflow:*** Available Device: _DeviceAttributes(/job:worker/replica:0/task:0/device:XLA_CPU:0, XLA_CPU, 17179869184, 4035233174162605331)\n",
      "INFO:tensorflow:*** Available Device: _DeviceAttributes(/job:worker/replica:0/task:0/device:TPU:0, TPU, 17179869184, 14012786129981336827)\n",
      "INFO:tensorflow:*** Available Device: _DeviceAttributes(/job:worker/replica:0/task:0/device:TPU:1, TPU, 17179869184, 539533255468239528)\n",
      "INFO:tensorflow:*** Available Device: _DeviceAttributes(/job:worker/replica:0/task:0/device:TPU:2, TPU, 17179869184, 3349495775958845432)\n",
      "INFO:tensorflow:*** Available Device: _DeviceAttributes(/job:worker/replica:0/task:0/device:TPU:3, TPU, 17179869184, 13977910711174941355)\n",
      "INFO:tensorflow:*** Available Device: _DeviceAttributes(/job:worker/replica:0/task:0/device:TPU:4, TPU, 17179869184, 17985429755116853327)\n",
      "INFO:tensorflow:*** Available Device: _DeviceAttributes(/job:worker/replica:0/task:0/device:TPU:5, TPU, 17179869184, 3380701520557894548)\n",
      "INFO:tensorflow:*** Available Device: _DeviceAttributes(/job:worker/replica:0/task:0/device:TPU:6, TPU, 17179869184, 4131202311383491685)\n",
      "INFO:tensorflow:*** Available Device: _DeviceAttributes(/job:worker/replica:0/task:0/device:TPU:7, TPU, 17179869184, 5721355087017319885)\n",
      "INFO:tensorflow:*** Available Device: _DeviceAttributes(/job:worker/replica:0/task:0/device:TPU_SYSTEM:0, TPU_SYSTEM, 17179869184, 15286381944398338612)\n",
      "WARNING:tensorflow:tpu_model (from tensorflow.contrib.tpu.python.tpu.keras_support) is experimental and may change or be removed at any time, and without warning.\n",
      "INFO:tensorflow:Cloning Adam {'lr': 0.0010000000474974513, 'beta_1': 0.8999999761581421, 'beta_2': 0.9990000128746033, 'decay': 0.0, 'epsilon': 1e-07, 'amsgrad': False}\n",
      "INFO:tensorflow:Cloning Adam {'lr': 0.0010000000474974513, 'beta_1': 0.8999999761581421, 'beta_2': 0.9990000128746033, 'decay': 0.0, 'epsilon': 1e-07, 'amsgrad': False}\n"
     ]
    }
   ],
   "source": [
    "# @title Convert to TPU Model\n",
    "import tensorflow as tf\n",
    "from keras_bert import get_custom_objects\n",
    "\n",
    "tpu_address = 'grpc://' + os.environ['COLAB_TPU_ADDR']\n",
    "strategy = tf.contrib.tpu.TPUDistributionStrategy(\n",
    "    tf.contrib.cluster_resolver.TPUClusterResolver(tpu=tpu_address)\n",
    ")\n",
    "\n",
    "with tf.keras.utils.custom_object_scope(get_custom_objects()):\n",
    "    tpu_model = tf.contrib.tpu.keras_to_tpu_model(model, strategy=strategy)\n",
    "    tpu_model.compile('adam', 'sparse_categorical_crossentropy')"
   ]
  },
  {
   "cell_type": "code",
   "execution_count": 6,
   "metadata": {
    "id": "xioN-O_vtztC",
    "colab_type": "code",
    "colab": {
     "base_uri": "https://localhost:8080/",
     "height": 513.0
    },
    "outputId": "e86ef012-a683-44da-92aa-1b8d1717f1ae"
   },
   "outputs": [
    {
     "name": "stdout",
     "output_type": "stream",
     "text": [
      "['[CLS]', 'from', 'that', 'day', 'forth', '.', '.', '.', 'my', 'arm', 'changed', '.', '.', '.', 'and', 'a', 'voice', 'echoed', '[SEP]']\n",
      "INFO:tensorflow:New input shapes; (re-)compiling: mode=infer (# of cores 8), [TensorSpec(shape=(1, 512), dtype=tf.float32, name='Input-Token_10'), TensorSpec(shape=(1, 512), dtype=tf.float32, name='Input-Segment_10')]\n",
      "INFO:tensorflow:Overriding default placeholder.\n",
      "INFO:tensorflow:Cloning Adam {'lr': 0.0010000000474974513, 'beta_1': 0.8999999761581421, 'beta_2': 0.9990000128746033, 'decay': 0.0, 'epsilon': 1e-07, 'amsgrad': False}\n",
      "INFO:tensorflow:Remapping placeholder for Input-Token\n",
      "INFO:tensorflow:Remapping placeholder for Input-Segment\n",
      "INFO:tensorflow:Started compiling\n",
      "INFO:tensorflow:Finished compiling. Time elapsed: 21.780761003494263 secs\n",
      "INFO:tensorflow:Setting weights on TPU model.\n",
      "[CLS] [0.24345341324806213, 0.04644402861595154, -0.24544095993041992, -0.5548260807991028, -0.15957015752792358, -0.04575725644826889, 0.26451393961906433, 0.46191850304603577, -0.1600675731897354, -0.5074594020843506, 0.18855686485767365, -0.08614782989025116, -0.1061844453215599, 1.1451373100280762, 0.35442039370536804, 0.4587564766407013, 0.22392264008522034, 0.23117280006408691, 0.1788121461868286]\n",
      "from [0.28334081172943115, 0.12933602929115295, 0.09063698351383209, -0.06460829824209213, -0.18440550565719604, 0.43870413303375244, -0.4650609791278839, 1.1139849424362183, 0.2654954195022583, -1.0455687046051025, -0.7188844680786133, -0.30787193775177, 0.3565126955509186, 0.4287853538990021, 0.5087456703186035, 0.4395572245121002, 0.6711681485176086, 0.11833377927541733, 0.3466182053089142]\n",
      "that [-0.7530979514122009, 0.14148521423339844, 0.32110595703125, -0.05034027248620987, 0.5126884579658508, 0.6391156911849976, 0.34450921416282654, 1.8543530702590942, -0.33858799934387207, -0.3282456398010254, 0.38831108808517456, -0.7885904312133789, 0.7797287702560425, 0.3736501634120941, -0.020457852631807327, 1.1469777822494507, 0.8690637946128845, -0.006412476301193237, 0.408023476600647]\n",
      "day [-0.5775533318519592, 0.16963434219360352, 0.7421326637268066, -0.4315379858016968, -0.24739056825637817, -0.12791390717029572, 0.09937460720539093, 0.6900342702865601, -0.5430283546447754, -1.1332873106002808, 0.10195714235305786, -0.7244206666946411, 0.10959077626466751, 0.7385805249214172, -0.14767444133758545, 0.8058369755744934, -0.04835782200098038, -0.5155643224716187, 0.5312745571136475]\n",
      "forth [0.6649466156959534, 0.44825413823127747, 0.22922426462173462, -1.302168846130371, -0.5655635595321655, 0.7589526176452637, 0.32360202074050903, 0.9763171672821045, 0.7469351887702942, -0.13700804114341736, 0.6945624351501465, -0.203972727060318, 0.7533774375915527, 1.0644394159317017, 0.2889682650566101, 1.4597785472869873, 0.19875817000865936, -0.34054070711135864, 0.2990284562110901]\n",
      ". [0.7048838138580322, -1.0030395984649658, 0.5311914682388306, -0.23220793902873993, 0.7526475191116333, 0.3635421097278595, 0.4739702343940735, 1.295593023300171, 0.21117694675922394, -1.140025019645691, -0.2455383688211441, -0.8921831250190735, -0.5548006296157837, 1.2262187004089355, 0.4956017732620239, 0.516326367855072, 0.23991428315639496, -0.027266882359981537, 0.3630806803703308]\n",
      ". [0.6913371086120605, -0.975332498550415, 0.8682907819747925, 0.1130596473813057, 0.6584311723709106, -0.5487366914749146, 0.6340433359146118, 0.9035021662712097, -0.318183034658432, -1.6783437728881836, -0.4557841420173645, -1.0280261039733887, -0.48163726925849915, 0.8624160289764404, 0.37825271487236023, 0.7398071885108948, 0.06338094174861908, -0.00625891238451004, 0.5648756623268127]\n",
      ". [0.4902007281780243, -0.5329129695892334, 0.44671037793159485, 0.08339464664459229, 0.07338833063840866, 0.002082211896777153, 0.5153429508209229, 0.9513314962387085, 0.20606592297554016, -1.3793492317199707, -0.1312226951122284, -0.5593339204788208, -0.6226993799209595, 0.341648131608963, 0.7999222874641418, 0.00796719640493393, 0.23016981780529022, -0.28922325372695923, 0.01349977683275938]\n",
      "my [0.19642284512519836, 0.18501025438308716, 0.601519763469696, -0.41934239864349365, -0.25867727398872375, 0.7092214822769165, 0.33802443742752075, 1.4712833166122437, -0.02936568669974804, -0.8433164358139038, 0.2312925010919571, -0.4652368128299713, 0.10139905661344528, 0.6557177901268005, 0.4229152798652649, 0.2836911976337433, 0.8511118292808533, -0.757256269454956, -0.037783414125442505]\n",
      "arm [0.1373690664768219, -0.18343546986579895, 0.04206688329577446, -0.3026988208293915, 0.2599744498729706, 0.4404730796813965, -0.16086885333061218, 0.60722815990448, -0.2519409954547882, -0.9463115930557251, -0.2201773077249527, -0.43462082743644714, 0.35637733340263367, 0.5464427471160889, -0.27712664008140564, 0.8148397207260132, 0.7745376825332642, 0.20097586512565613, -0.13234733045101166]\n",
      "changed [0.686237096786499, -0.06772100925445557, 0.739486813545227, -0.3290937840938568, 0.5188252925872803, 0.4797325134277344, -0.17239324748516083, 0.7617073059082031, -0.8539441227912903, 0.02736959606409073, 0.8552705645561218, -0.919501543045044, 0.11993873119354248, 0.9182640314102173, 0.46683210134506226, 0.3338487148284912, 0.4972645938396454, -0.4602185785770416, -0.8552544116973877]\n",
      ". [0.6942490339279175, -0.9503297805786133, 0.6900511384010315, -0.3265862762928009, 0.6537444591522217, 0.1848534643650055, 0.14496570825576782, 1.0540179014205933, 0.09700585156679153, -1.1550005674362183, -0.3818013668060303, -0.7015370726585388, -0.5516546964645386, 1.2593685388565063, 0.44300130009651184, 0.4497016668319702, 0.4614061117172241, -0.12459497898817062, 0.13392861187458038]\n",
      ". [0.4964507818222046, -0.8221509456634521, 1.0117205381393433, 0.1728724092245102, 0.6775784492492676, -0.629925012588501, 0.3957119584083557, 0.776019275188446, -0.33218812942504883, -1.6425868272781372, -0.38488954305648804, -1.1710973978042603, -0.4872918128967285, 0.8636365532875061, 0.4258843958377838, 0.6318846940994263, 0.11323564499616623, -0.18443220853805542, 0.40570151805877686]\n",
      ". [0.5236632823944092, -0.8736894726753235, 0.8033097386360168, -0.3114917576313019, 0.5313264727592468, -0.11148497462272644, 0.6140971183776855, 0.8230523467063904, 0.0736783817410469, -0.7654441595077515, -0.33479297161102295, -0.6999180316925049, -0.73861163854599, 0.9078459739685059, 0.3427891135215759, 0.07240675389766693, -0.011050837114453316, -0.5136091709136963, 0.0031201280653476715]\n",
      "and [-0.1313202828168869, -0.19996550679206848, -0.1655203402042389, 0.07713686674833298, -0.17295044660568237, 0.7288122177124023, -0.15490314364433289, 1.6065690517425537, 0.043916005641222, -1.3013252019882202, 0.19112129509449005, -0.3448832631111145, 0.1954416036605835, 0.6113571524620056, 0.3979514539241791, 0.540730357170105, 0.6087163686752319, -0.5846748352050781, -0.5497364401817322]\n",
      "a [-0.07665550708770752, 0.09054625034332275, -0.12505757808685303, -0.36505940556526184, 0.5450721383094788, 0.32303497195243835, 0.33831092715263367, 0.8230475783348083, -0.4352308511734009, -0.8308447599411011, 0.05662444233894348, -0.7618234157562256, -0.5107350945472717, 1.2313750982284546, -0.5327286124229431, -0.08074983954429626, 0.8367893695831299, -0.387456476688385, -0.06883065402507782]\n",
      "voice [0.4380566477775574, -0.12374260276556015, -0.09728133678436279, -0.48570457100868225, 0.6081450581550598, 0.3281576633453369, 0.6259386539459229, 0.7260847091674805, -0.4658949375152588, -0.5830427408218384, -0.4385852813720703, -0.3123314380645752, -0.4066219925880432, 0.6021022796630859, -0.6325008869171143, -0.4335554242134094, -0.12282075732946396, -0.07763975113630295, -0.16148312389850616]\n",
      "echoed [0.617192268371582, -0.2291824221611023, -0.07532314956188202, -0.7912566661834717, 0.09847687929868698, 0.6506926417350769, -0.08392337709665298, 0.4971139132976532, -0.6309008598327637, -0.40990331768989563, 0.1290910691022873, -0.11806365102529526, -0.44402194023132324, 0.8773836493492126, -0.8472542762756348, -0.35145318508148193, 0.1105133518576622, -0.29924333095550537, -0.5547593832015991]\n",
      "[SEP] [0.7552322149276733, 0.36797940731048584, -0.17543013393878937, 0.3897828161716461, -0.5295818448066711, -0.6142719388008118, 0.49318480491638184, -0.3504956364631653, 0.421213835477829, -0.11232677102088928, 0.17478252947330475, -0.09976141899824142, 0.17199264466762543, 0.1522754430770874, -0.24918146431446075, -0.06870995461940765, 0.23043304681777954, -0.048438671976327896, 0.37849852442741394]\n"
     ]
    }
   ],
   "source": [
    "# @title Extraction\n",
    "import numpy as np\n",
    "from keras_bert import Tokenizer\n",
    "\n",
    "tokenizer = Tokenizer(token_dict)\n",
    "text = 'From that day forth... my arm changed... and a voice echoed'\n",
    "tokens = tokenizer.tokenize(text)\n",
    "indices, segments = tokenizer.encode(first=text, max_len=512)\n",
    "print(tokens)\n",
    "\n",
    "with tf.keras.utils.custom_object_scope(get_custom_objects()):\n",
    "    predicts = tpu_model.predict([np.array([indices] * 8), np.array([segments] * 8)])[0]\n",
    "    \n",
    "for i, token in enumerate(tokens):\n",
    "    print(token, predicts[i].tolist()[:19])"
   ]
  }
 ],
 "metadata": {
  "colab": {
   "name": "keras_bert_load_and_extract_tpu.ipynb",
   "version": "0.3.2",
   "provenance": [],
   "collapsed_sections": []
  },
  "kernelspec": {
   "name": "python3",
   "display_name": "Python 3"
  },
  "accelerator": "TPU"
 },
 "nbformat": 4,
 "nbformat_minor": 0
}
